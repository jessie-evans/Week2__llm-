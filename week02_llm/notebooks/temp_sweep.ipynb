{
 "cells": [
  {
   "cell_type": "code",
   "execution_count": 1,
   "id": "0906af7b-6617-41cf-9c49-6fd734b5db50",
   "metadata": {},
   "outputs": [
    {
     "name": "stderr",
     "output_type": "stream",
     "text": [
      "C:\\Users\\jessi\\week02_llm\\.venv\\Lib\\site-packages\\tqdm\\auto.py:21: TqdmWarning: IProgress not found. Please update jupyter and ipywidgets. See https://ipywidgets.readthedocs.io/en/stable/user_install.html\n",
      "  from .autonotebook import tqdm as notebook_tqdm\n"
     ]
    },
    {
     "data": {
      "text/html": [
       "<pre style=\"white-space:pre;overflow-x:auto;line-height:normal;font-family:Menlo,'DejaVu Sans Mono',consolas,'Courier New',monospace\"><span style=\"color: #008000; text-decoration-color: #008000; font-weight: bold\">LLM Client initialized for model: HuggingFaceH4/zephyr-7b-beta</span>\n",
       "</pre>\n"
      ],
      "text/plain": [
       "\u001b[1;32mLLM Client initialized for model: HuggingFaceH4/zephyr-7b-beta\u001b[0m\n"
      ]
     },
     "metadata": {},
     "output_type": "display_data"
    }
   ],
   "source": [
    "import os\n",
    "from huggingface_hub import InferenceClient\n",
    "from rich.console import Console # For better display (optional in notebook, but good practice)\n",
    "from rich.panel import Panel\n",
    "from rich.text import Text\n",
    "\n",
    "console = Console()\n",
    "\n",
    "# Get Hugging Face token from environment variable\n",
    "HF_TOKEN = os.getenv(\"HF_TOKEN\")\n",
    "if not HF_TOKEN:\n",
    "    console.print(Panel(\n",
    "        Text(\"HF_TOKEN environment variable is not set. Please set it in your terminal before launching Jupyter.\",\n",
    "             justify=\"center\", style=\"bold yellow\"),\n",
    "        title=\"[red]Authentication Required[/red]\", border_style=\"red\"\n",
    "    ))\n",
    "    # You might want to exit or raise an error if token is crucial\n",
    "    raise ValueError(\"HF_TOKEN environment variable not set.\")\n",
    "\n",
    "# Initialize Hugging Face Inference Client\n",
    "# Using a model suitable for \"chat_completion\" as it's generally better for instruction following\n",
    "# Zephyr-7B-beta is a good, freely available option on HF Inference API\n",
    "LLM_MODEL = \"HuggingFaceH4/zephyr-7b-beta\"\n",
    "llm_client = InferenceClient(model=LLM_MODEL, token=HF_TOKEN)\n",
    "\n",
    "console.print(f\"[bold green]LLM Client initialized for model: {LLM_MODEL}[/bold green]\")"
   ]
  },
  {
   "cell_type": "code",
   "execution_count": 3,
   "id": "3ffd6218-4471-423b-a0cb-d320566ea2d7",
   "metadata": {},
   "outputs": [
    {
     "data": {
      "text/html": [
       "<pre style=\"white-space:pre;overflow-x:auto;line-height:normal;font-family:Menlo,'DejaVu Sans Mono',consolas,'Courier New',monospace\"><span style=\"color: #000080; text-decoration-color: #000080; font-weight: bold\">Running temperature sweep for prompt:</span> <span style=\"color: #008000; text-decoration-color: #008000\">'</span><span style=\"color: #008000; text-decoration-color: #008000; font-style: italic\">Write a two-line haiku about Dallas in spring.</span><span style=\"color: #008000; text-decoration-color: #008000\">'</span>\n",
       "\n",
       "</pre>\n"
      ],
      "text/plain": [
       "\u001b[1;34mRunning temperature sweep for prompt:\u001b[0m \u001b[32m'\u001b[0m\u001b[3;32mWrite a two-line haiku about Dallas in spring.\u001b[0m\u001b[32m'\u001b[0m\n",
       "\n"
      ]
     },
     "metadata": {},
     "output_type": "display_data"
    },
    {
     "data": {
      "text/html": [
       "<pre style=\"white-space:pre;overflow-x:auto;line-height:normal;font-family:Menlo,'DejaVu Sans Mono',consolas,'Courier New',monospace\">\n",
       "<span style=\"color: #808000; text-decoration-color: #808000; font-weight: bold\">--- Generating with Temperature: </span><span style=\"color: #808000; text-decoration-color: #808000; font-weight: bold\">0.0</span><span style=\"color: #808000; text-decoration-color: #808000; font-weight: bold\"> ---</span>\n",
       "</pre>\n"
      ],
      "text/plain": [
       "\n",
       "\u001b[1;33m--- Generating with Temperature: \u001b[0m\u001b[1;33m0.0\u001b[0m\u001b[1;33m ---\u001b[0m\n"
      ]
     },
     "metadata": {},
     "output_type": "display_data"
    },
    {
     "data": {
      "text/html": [
       "<pre style=\"white-space:pre;overflow-x:auto;line-height:normal;font-family:Menlo,'DejaVu Sans Mono',consolas,'Courier New',monospace\"><span style=\"color: #008080; text-decoration-color: #008080\">╭────────────────────────────────────────────── Output (Temp: 0.0) ───────────────────────────────────────────────╮</span>\n",
       "<span style=\"color: #008080; text-decoration-color: #008080\">│</span> <span style=\"color: #008080; text-decoration-color: #008080\"> </span>                                                                                                               <span style=\"color: #008080; text-decoration-color: #008080\">│</span>\n",
       "<span style=\"color: #008080; text-decoration-color: #008080\">│</span> <span style=\"color: #008080; text-decoration-color: #008080\">&lt;|assistant|&gt;</span>                                                                                                   <span style=\"color: #008080; text-decoration-color: #008080\">│</span>\n",
       "<span style=\"color: #008080; text-decoration-color: #008080\">│</span> <span style=\"color: #008080; text-decoration-color: #008080\">Blossoms bloom,</span>                                                                                                 <span style=\"color: #008080; text-decoration-color: #008080\">│</span>\n",
       "<span style=\"color: #008080; text-decoration-color: #008080\">│</span> <span style=\"color: #008080; text-decoration-color: #008080\">Soft breeze whispers hope,</span>                                                                                      <span style=\"color: #008080; text-decoration-color: #008080\">│</span>\n",
       "<span style=\"color: #008080; text-decoration-color: #008080\">│</span> <span style=\"color: #008080; text-decoration-color: #008080\">Nature's renewal in the Lone Star State.</span>                                                                        <span style=\"color: #008080; text-decoration-color: #008080\">│</span>\n",
       "<span style=\"color: #008080; text-decoration-color: #008080\">│</span> <span style=\"color: #008080; text-decoration-color: #008080\">Spring awakens Dallas.</span>                                                                                          <span style=\"color: #008080; text-decoration-color: #008080\">│</span>\n",
       "<span style=\"color: #008080; text-decoration-color: #008080\">╰─────────────────────────────────────────────────────────────────────────────────────────────────────────────────╯</span>\n",
       "</pre>\n"
      ],
      "text/plain": [
       "\u001b[36m╭─\u001b[0m\u001b[36m─────────────────────────────────────────────\u001b[0m\u001b[36m \u001b[0m\u001b[36mOutput (Temp: 0.0)\u001b[0m\u001b[36m \u001b[0m\u001b[36m──────────────────────────────────────────────\u001b[0m\u001b[36m─╮\u001b[0m\n",
       "\u001b[36m│\u001b[0m \u001b[36m \u001b[0m                                                                                                               \u001b[36m│\u001b[0m\n",
       "\u001b[36m│\u001b[0m \u001b[36m<|assistant|>\u001b[0m                                                                                                   \u001b[36m│\u001b[0m\n",
       "\u001b[36m│\u001b[0m \u001b[36mBlossoms bloom,\u001b[0m                                                                                                 \u001b[36m│\u001b[0m\n",
       "\u001b[36m│\u001b[0m \u001b[36mSoft breeze whispers hope,\u001b[0m                                                                                      \u001b[36m│\u001b[0m\n",
       "\u001b[36m│\u001b[0m \u001b[36mNature's renewal in the Lone Star State.\u001b[0m                                                                        \u001b[36m│\u001b[0m\n",
       "\u001b[36m│\u001b[0m \u001b[36mSpring awakens Dallas.\u001b[0m                                                                                          \u001b[36m│\u001b[0m\n",
       "\u001b[36m╰─────────────────────────────────────────────────────────────────────────────────────────────────────────────────╯\u001b[0m\n"
      ]
     },
     "metadata": {},
     "output_type": "display_data"
    },
    {
     "data": {
      "text/html": [
       "<pre style=\"white-space:pre;overflow-x:auto;line-height:normal;font-family:Menlo,'DejaVu Sans Mono',consolas,'Courier New',monospace\">\n",
       "<span style=\"color: #808000; text-decoration-color: #808000; font-weight: bold\">--- Generating with Temperature: </span><span style=\"color: #808000; text-decoration-color: #808000; font-weight: bold\">0.4</span><span style=\"color: #808000; text-decoration-color: #808000; font-weight: bold\"> ---</span>\n",
       "</pre>\n"
      ],
      "text/plain": [
       "\n",
       "\u001b[1;33m--- Generating with Temperature: \u001b[0m\u001b[1;33m0.4\u001b[0m\u001b[1;33m ---\u001b[0m\n"
      ]
     },
     "metadata": {},
     "output_type": "display_data"
    },
    {
     "data": {
      "text/html": [
       "<pre style=\"white-space:pre;overflow-x:auto;line-height:normal;font-family:Menlo,'DejaVu Sans Mono',consolas,'Courier New',monospace\"><span style=\"color: #008080; text-decoration-color: #008080\">╭────────────────────────────────────────────── Output (Temp: 0.4) ───────────────────────────────────────────────╮</span>\n",
       "<span style=\"color: #008080; text-decoration-color: #008080\">│</span> <span style=\"color: #008080; text-decoration-color: #008080\"> </span>                                                                                                               <span style=\"color: #008080; text-decoration-color: #008080\">│</span>\n",
       "<span style=\"color: #008080; text-decoration-color: #008080\">│</span> <span style=\"color: #008080; text-decoration-color: #008080\">&lt;|assistant|&gt;</span>                                                                                                   <span style=\"color: #008080; text-decoration-color: #008080\">│</span>\n",
       "<span style=\"color: #008080; text-decoration-color: #008080\">│</span> <span style=\"color: #008080; text-decoration-color: #008080\">Blossoms bloom,</span>                                                                                                 <span style=\"color: #008080; text-decoration-color: #008080\">│</span>\n",
       "<span style=\"color: #008080; text-decoration-color: #008080\">│</span> <span style=\"color: #008080; text-decoration-color: #008080\">Soft breeze whispers hope,</span>                                                                                      <span style=\"color: #008080; text-decoration-color: #008080\">│</span>\n",
       "<span style=\"color: #008080; text-decoration-color: #008080\">│</span> <span style=\"color: #008080; text-decoration-color: #008080\">Renewal in the air, new life awakens.</span>                                                                           <span style=\"color: #008080; text-decoration-color: #008080\">│</span>\n",
       "<span style=\"color: #008080; text-decoration-color: #008080\">│</span> <span style=\"color: #008080; text-decoration-color: #008080\">Springtime in Dallas.</span>                                                                                           <span style=\"color: #008080; text-decoration-color: #008080\">│</span>\n",
       "<span style=\"color: #008080; text-decoration-color: #008080\">╰─────────────────────────────────────────────────────────────────────────────────────────────────────────────────╯</span>\n",
       "</pre>\n"
      ],
      "text/plain": [
       "\u001b[36m╭─\u001b[0m\u001b[36m─────────────────────────────────────────────\u001b[0m\u001b[36m \u001b[0m\u001b[36mOutput (Temp: 0.4)\u001b[0m\u001b[36m \u001b[0m\u001b[36m──────────────────────────────────────────────\u001b[0m\u001b[36m─╮\u001b[0m\n",
       "\u001b[36m│\u001b[0m \u001b[36m \u001b[0m                                                                                                               \u001b[36m│\u001b[0m\n",
       "\u001b[36m│\u001b[0m \u001b[36m<|assistant|>\u001b[0m                                                                                                   \u001b[36m│\u001b[0m\n",
       "\u001b[36m│\u001b[0m \u001b[36mBlossoms bloom,\u001b[0m                                                                                                 \u001b[36m│\u001b[0m\n",
       "\u001b[36m│\u001b[0m \u001b[36mSoft breeze whispers hope,\u001b[0m                                                                                      \u001b[36m│\u001b[0m\n",
       "\u001b[36m│\u001b[0m \u001b[36mRenewal in the air, new life awakens.\u001b[0m                                                                           \u001b[36m│\u001b[0m\n",
       "\u001b[36m│\u001b[0m \u001b[36mSpringtime in Dallas.\u001b[0m                                                                                           \u001b[36m│\u001b[0m\n",
       "\u001b[36m╰─────────────────────────────────────────────────────────────────────────────────────────────────────────────────╯\u001b[0m\n"
      ]
     },
     "metadata": {},
     "output_type": "display_data"
    },
    {
     "data": {
      "text/html": [
       "<pre style=\"white-space:pre;overflow-x:auto;line-height:normal;font-family:Menlo,'DejaVu Sans Mono',consolas,'Courier New',monospace\">\n",
       "<span style=\"color: #808000; text-decoration-color: #808000; font-weight: bold\">--- Generating with Temperature: </span><span style=\"color: #808000; text-decoration-color: #808000; font-weight: bold\">0.8</span><span style=\"color: #808000; text-decoration-color: #808000; font-weight: bold\"> ---</span>\n",
       "</pre>\n"
      ],
      "text/plain": [
       "\n",
       "\u001b[1;33m--- Generating with Temperature: \u001b[0m\u001b[1;33m0.8\u001b[0m\u001b[1;33m ---\u001b[0m\n"
      ]
     },
     "metadata": {},
     "output_type": "display_data"
    },
    {
     "data": {
      "text/html": [
       "<pre style=\"white-space:pre;overflow-x:auto;line-height:normal;font-family:Menlo,'DejaVu Sans Mono',consolas,'Courier New',monospace\"><span style=\"color: #008080; text-decoration-color: #008080\">╭────────────────────────────────────────────── Output (Temp: 0.8) ───────────────────────────────────────────────╮</span>\n",
       "<span style=\"color: #008080; text-decoration-color: #008080\">│</span>                                                                                                                 <span style=\"color: #008080; text-decoration-color: #008080\">│</span>\n",
       "<span style=\"color: #008080; text-decoration-color: #008080\">│</span> <span style=\"color: #008080; text-decoration-color: #008080\">Cherry blossoms bloom,</span>                                                                                          <span style=\"color: #008080; text-decoration-color: #008080\">│</span>\n",
       "<span style=\"color: #008080; text-decoration-color: #008080\">│</span> <span style=\"color: #008080; text-decoration-color: #008080\">Soft petals dance, inspiring awe in the breeze,</span>                                                                 <span style=\"color: #008080; text-decoration-color: #008080\">│</span>\n",
       "<span style=\"color: #008080; text-decoration-color: #008080\">│</span> <span style=\"color: #008080; text-decoration-color: #008080\">Nature's artistry seen.</span>                                                                                         <span style=\"color: #008080; text-decoration-color: #008080\">│</span>\n",
       "<span style=\"color: #008080; text-decoration-color: #008080\">╰─────────────────────────────────────────────────────────────────────────────────────────────────────────────────╯</span>\n",
       "</pre>\n"
      ],
      "text/plain": [
       "\u001b[36m╭─\u001b[0m\u001b[36m─────────────────────────────────────────────\u001b[0m\u001b[36m \u001b[0m\u001b[36mOutput (Temp: 0.8)\u001b[0m\u001b[36m \u001b[0m\u001b[36m──────────────────────────────────────────────\u001b[0m\u001b[36m─╮\u001b[0m\n",
       "\u001b[36m│\u001b[0m                                                                                                                 \u001b[36m│\u001b[0m\n",
       "\u001b[36m│\u001b[0m \u001b[36mCherry blossoms bloom,\u001b[0m                                                                                          \u001b[36m│\u001b[0m\n",
       "\u001b[36m│\u001b[0m \u001b[36mSoft petals dance, inspiring awe in the breeze,\u001b[0m                                                                 \u001b[36m│\u001b[0m\n",
       "\u001b[36m│\u001b[0m \u001b[36mNature's artistry seen.\u001b[0m                                                                                         \u001b[36m│\u001b[0m\n",
       "\u001b[36m╰─────────────────────────────────────────────────────────────────────────────────────────────────────────────────╯\u001b[0m\n"
      ]
     },
     "metadata": {},
     "output_type": "display_data"
    },
    {
     "data": {
      "text/html": [
       "<pre style=\"white-space:pre;overflow-x:auto;line-height:normal;font-family:Menlo,'DejaVu Sans Mono',consolas,'Courier New',monospace\">\n",
       "<span style=\"color: #808000; text-decoration-color: #808000; font-weight: bold\">--- Generating with Temperature: </span><span style=\"color: #808000; text-decoration-color: #808000; font-weight: bold\">1.0</span><span style=\"color: #808000; text-decoration-color: #808000; font-weight: bold\"> ---</span>\n",
       "</pre>\n"
      ],
      "text/plain": [
       "\n",
       "\u001b[1;33m--- Generating with Temperature: \u001b[0m\u001b[1;33m1.0\u001b[0m\u001b[1;33m ---\u001b[0m\n"
      ]
     },
     "metadata": {},
     "output_type": "display_data"
    },
    {
     "data": {
      "text/html": [
       "<pre style=\"white-space:pre;overflow-x:auto;line-height:normal;font-family:Menlo,'DejaVu Sans Mono',consolas,'Courier New',monospace\"><span style=\"color: #008080; text-decoration-color: #008080\">╭────────────────────────────────────────────── Output (Temp: 1.0) ───────────────────────────────────────────────╮</span>\n",
       "<span style=\"color: #008080; text-decoration-color: #008080\">│</span>                                                                                                                 <span style=\"color: #008080; text-decoration-color: #008080\">│</span>\n",
       "<span style=\"color: #008080; text-decoration-color: #008080\">│</span> <span style=\"color: #008080; text-decoration-color: #008080\">Blossoms bloom,</span>                                                                                                 <span style=\"color: #008080; text-decoration-color: #008080\">│</span>\n",
       "<span style=\"color: #008080; text-decoration-color: #008080\">│</span> <span style=\"color: #008080; text-decoration-color: #008080\">Softly whispering the promise</span>                                                                                   <span style=\"color: #008080; text-decoration-color: #008080\">│</span>\n",
       "<span style=\"color: #008080; text-decoration-color: #008080\">│</span> <span style=\"color: #008080; text-decoration-color: #008080\">Of new beginnings.</span>                                                                                              <span style=\"color: #008080; text-decoration-color: #008080\">│</span>\n",
       "<span style=\"color: #008080; text-decoration-color: #008080\">╰─────────────────────────────────────────────────────────────────────────────────────────────────────────────────╯</span>\n",
       "</pre>\n"
      ],
      "text/plain": [
       "\u001b[36m╭─\u001b[0m\u001b[36m─────────────────────────────────────────────\u001b[0m\u001b[36m \u001b[0m\u001b[36mOutput (Temp: 1.0)\u001b[0m\u001b[36m \u001b[0m\u001b[36m──────────────────────────────────────────────\u001b[0m\u001b[36m─╮\u001b[0m\n",
       "\u001b[36m│\u001b[0m                                                                                                                 \u001b[36m│\u001b[0m\n",
       "\u001b[36m│\u001b[0m \u001b[36mBlossoms bloom,\u001b[0m                                                                                                 \u001b[36m│\u001b[0m\n",
       "\u001b[36m│\u001b[0m \u001b[36mSoftly whispering the promise\u001b[0m                                                                                   \u001b[36m│\u001b[0m\n",
       "\u001b[36m│\u001b[0m \u001b[36mOf new beginnings.\u001b[0m                                                                                              \u001b[36m│\u001b[0m\n",
       "\u001b[36m╰─────────────────────────────────────────────────────────────────────────────────────────────────────────────────╯\u001b[0m\n"
      ]
     },
     "metadata": {},
     "output_type": "display_data"
    },
    {
     "data": {
      "text/html": [
       "<pre style=\"white-space:pre;overflow-x:auto;line-height:normal;font-family:Menlo,'DejaVu Sans Mono',consolas,'Courier New',monospace\">\n",
       "<span style=\"color: #008000; text-decoration-color: #008000; font-weight: bold\">Temperature sweep complete.</span>\n",
       "</pre>\n"
      ],
      "text/plain": [
       "\n",
       "\u001b[1;32mTemperature sweep complete.\u001b[0m\n"
      ]
     },
     "metadata": {},
     "output_type": "display_data"
    }
   ],
   "source": [
    "# --- Configuration for the Sweep ---\n",
    "temperatures = [0.0, 0.4, 0.8, 1.0] # Added 1.0 for more variety\n",
    "prompt = \"Write a two-line haiku about Dallas in spring.\"\n",
    "\n",
    "# List to store outputs for review\n",
    "outputs = []\n",
    "\n",
    "console.print(f\"[bold blue]Running temperature sweep for prompt:[/bold blue] '[italic]{prompt}[/italic]'\\n\")\n",
    "\n",
    "for temp in temperatures:\n",
    "    console.print(f\"\\n[bold yellow]--- Generating with Temperature: {temp} ---[/bold yellow]\")\n",
    "    \n",
    "    # Construct messages for chat_completion\n",
    "    messages = [\n",
    "        {\"role\": \"system\", \"content\": \"You are a poetic assistant. Generate creative and concise responses.\"},\n",
    "        {\"role\": \"user\", \"content\": prompt}\n",
    "    ]\n",
    "\n",
    "    try:\n",
    "        # Use chat_completion for Zephyr model\n",
    "        response = llm_client.chat_completion(\n",
    "            messages=messages,\n",
    "            temperature=temp, # Apply the current temperature\n",
    "            max_tokens=50, # Keep response concise for haiku # Keep response concise for haiku\n",
    "            stop=[\"\\n\\n\"] # Often helps prevent running off too long\n",
    "        )\n",
    "        \n",
    "        generated_text = \"\"\n",
    "        if response and response.choices and response.choices[0] and response.choices[0].message:\n",
    "            generated_text = response.choices[0].message.content\n",
    "        \n",
    "        console.print(Panel(\n",
    "            Text(generated_text, style=\"cyan\"),\n",
    "            title=f\"[cyan]Output (Temp: {temp})[/cyan]\",\n",
    "            border_style=\"cyan\"\n",
    "        ))\n",
    "        \n",
    "        # Store for later review\n",
    "        outputs.append({\"temperature\": temp, \"output\": generated_text})\n",
    "\n",
    "    except Exception as e:\n",
    "        console.print(f\"[bold red]Error at Temperature {temp}: {e}[/bold red]\")\n",
    "        outputs.append({\"temperature\": temp, \"output\": f\"Error: {e}\"})\n",
    "\n",
    "console.print(\"\\n[bold green]Temperature sweep complete.[/bold green]\")\n",
    "\n",
    "# You can print all outputs at the end if you want to see them summarized\n",
    "# for item in outputs:\n",
    "#     print(f\"Temp: {item['temperature']}\\nOutput:\\n{item['output']}\\n---\")"
   ]
  },
  {
   "cell_type": "markdown",
   "id": "3ad671f5-ee69-4c1c-af51-17ce8c5bc3b0",
   "metadata": {},
   "source": [
    "## Preferred Haiku Output\n",
    "\n",
    "After reviewing the generated haikus for different temperatures, I found the output at **Temperature 0.X** (replace 0.X with the actual temperature you liked best) to be my preferred one.\n",
    "\n",
    "**Reasoning:**\n",
    "* (Type your explanation here. For example: \"At 0.0, the haiku was too literal and lacked poetic flair.\" or \"At 0.8, the generated text became too random and didn't fit the haiku structure.\" or \"Temperature 0.4 provided the best balance, offering a touch of creativity while still adhering to the haiku's essence.\")"
   ]
  },
  {
   "cell_type": "code",
   "execution_count": null,
   "id": "ea941777-03dd-4081-a237-7969315aec7e",
   "metadata": {},
   "outputs": [],
   "source": []
  },
  {
   "cell_type": "code",
   "execution_count": null,
   "id": "6dd8683a-4cbd-4b17-b4fd-86b92d85e9bf",
   "metadata": {},
   "outputs": [],
   "source": []
  }
 ],
 "metadata": {
  "kernelspec": {
   "display_name": "Python 3 (ipykernel)",
   "language": "python",
   "name": "python3"
  },
  "language_info": {
   "codemirror_mode": {
    "name": "ipython",
    "version": 3
   },
   "file_extension": ".py",
   "mimetype": "text/x-python",
   "name": "python",
   "nbconvert_exporter": "python",
   "pygments_lexer": "ipython3",
   "version": "3.11.5"
  }
 },
 "nbformat": 4,
 "nbformat_minor": 5
}
